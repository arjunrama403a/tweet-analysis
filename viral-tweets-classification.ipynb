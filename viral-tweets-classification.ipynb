{
 "cells": [
  {
   "cell_type": "markdown",
   "id": "e62600e1",
   "metadata": {
    "papermill": {
     "duration": 0.010739,
     "end_time": "2022-01-11T06:38:19.572880",
     "exception": false,
     "start_time": "2022-01-11T06:38:19.562141",
     "status": "completed"
    },
    "tags": []
   },
   "source": [
    "# Off-Platform Project: Viral Tweets\n",
    "\n",
    "In this project, we are going to use the K-Nearest Neighbor algorithm to predict whether a tweet will go viral. Before jumping into using the classifier, let's first consider the problem we're trying to solve. Which features of a tweet are most closely linked to its popularity? Maybe the number of hashtags or the number of links in the tweet strongly influences its popularity. Maybe its virality is dependent on how many followers the person has. Maybe it's something more subtle like the specific language used in the tweets.\n",
    "\n",
    "Let's explore these options by looking at the data we have available to us. We've imported the dataset and printed the following information:\n",
    "\n",
    "* The total number of tweets in the dataset.\n",
    "* The columns, or features, of the dataset.\n",
    "* The text of the first tweet in the dataset.\n",
    "\n",
    "Some of these features are dictionaries. For example, the feature `\"user\"` is a dictionary. We might want to use some of the information found in these sub-dictionaries. Print `all_tweets.loc[0][\"user\"]` to see what the `\"user\"` feature looks like.\n",
    "\n",
    "After printing that, try printing just the `\"location\"` found in that `\"user\"` dictionary. For example, `all_tweets.loc[0][\"user\"][\"screen_name\"]` would give you only the screen name associated with the first tweet."
   ]
  },
  {
   "cell_type": "code",
   "execution_count": 1,
   "id": "9b347c27",
   "metadata": {
    "execution": {
     "iopub.execute_input": "2022-01-11T06:38:19.597539Z",
     "iopub.status.busy": "2022-01-11T06:38:19.596505Z",
     "iopub.status.idle": "2022-01-11T06:38:23.414782Z",
     "shell.execute_reply": "2022-01-11T06:38:23.415526Z",
     "shell.execute_reply.started": "2022-01-11T06:28:03.099943Z"
    },
    "papermill": {
     "duration": 3.832843,
     "end_time": "2022-01-11T06:38:23.415854",
     "exception": false,
     "start_time": "2022-01-11T06:38:19.583011",
     "status": "completed"
    },
    "tags": []
   },
   "outputs": [
    {
     "name": "stdout",
     "output_type": "stream",
     "text": [
      "@hail_ee23 Thanks love its just the feeling of eyes that get me so nervous ❤️\n",
      "{'id': 145388018, 'id_str': '145388018', 'name': 'Derek Wolkenhauer', 'screen_name': 'derekw221', 'location': 'Waterloo, Iowa', 'description': '', 'url': None, 'entities': {'description': {'urls': []}}, 'protected': False, 'followers_count': 215, 'friends_count': 335, 'listed_count': 2, 'created_at': 'Tue May 18 21:30:10 +0000 2010', 'favourites_count': 3419, 'utc_offset': None, 'time_zone': None, 'geo_enabled': True, 'verified': False, 'statuses_count': 4475, 'lang': 'en', 'contributors_enabled': False, 'is_translator': False, 'is_translation_enabled': False, 'profile_background_color': '022330', 'profile_background_image_url': 'http://abs.twimg.com/images/themes/theme15/bg.png', 'profile_background_image_url_https': 'https://abs.twimg.com/images/themes/theme15/bg.png', 'profile_background_tile': False, 'profile_image_url': 'http://pbs.twimg.com/profile_images/995790590276243456/cgxRVviN_normal.jpg', 'profile_image_url_https': 'https://pbs.twimg.com/profile_images/995790590276243456/cgxRVviN_normal.jpg', 'profile_banner_url': 'https://pbs.twimg.com/profile_banners/145388018/1494937921', 'profile_link_color': '0084B4', 'profile_sidebar_border_color': 'A8C7F7', 'profile_sidebar_fill_color': 'C0DFEC', 'profile_text_color': '333333', 'profile_use_background_image': True, 'has_extended_profile': True, 'default_profile': False, 'default_profile_image': False, 'following': False, 'follow_request_sent': False, 'notifications': False, 'translator_type': 'none'}\n"
     ]
    }
   ],
   "source": [
    "import pandas as pd\n",
    "\n",
    "all_tweets = pd.read_json(\"/kaggle/input/twitter-classification/random_tweets.json\", lines=True)\n",
    "\n",
    "#print(len(all_tweets))\n",
    "#print(all_tweets.columns)\n",
    "print(all_tweets.loc[1]['text'])\n",
    "\n",
    "#Print the user here and the user's location here.\n",
    "print(all_tweets.loc[0]['user'])"
   ]
  },
  {
   "cell_type": "code",
   "execution_count": 2,
   "id": "d3fe2c51",
   "metadata": {
    "execution": {
     "iopub.execute_input": "2022-01-11T06:38:23.445743Z",
     "iopub.status.busy": "2022-01-11T06:38:23.445100Z",
     "iopub.status.idle": "2022-01-11T06:38:23.460998Z",
     "shell.execute_reply": "2022-01-11T06:38:23.461472Z",
     "shell.execute_reply.started": "2022-01-11T06:28:10.675339Z"
    },
    "papermill": {
     "duration": 0.03486,
     "end_time": "2022-01-11T06:38:23.461638",
     "exception": false,
     "start_time": "2022-01-11T06:38:23.426778",
     "status": "completed"
    },
    "tags": []
   },
   "outputs": [
    {
     "data": {
      "text/html": [
       "<div>\n",
       "<style scoped>\n",
       "    .dataframe tbody tr th:only-of-type {\n",
       "        vertical-align: middle;\n",
       "    }\n",
       "\n",
       "    .dataframe tbody tr th {\n",
       "        vertical-align: top;\n",
       "    }\n",
       "\n",
       "    .dataframe thead th {\n",
       "        text-align: right;\n",
       "    }\n",
       "</style>\n",
       "<table border=\"1\" class=\"dataframe\">\n",
       "  <thead>\n",
       "    <tr style=\"text-align: right;\">\n",
       "      <th></th>\n",
       "      <th>user</th>\n",
       "    </tr>\n",
       "  </thead>\n",
       "  <tbody>\n",
       "    <tr>\n",
       "      <th>0</th>\n",
       "      <td>{'id': 145388018, 'id_str': '145388018', 'name...</td>\n",
       "    </tr>\n",
       "    <tr>\n",
       "      <th>1</th>\n",
       "      <td>{'id': 2407992339, 'id_str': '2407992339', 'na...</td>\n",
       "    </tr>\n",
       "    <tr>\n",
       "      <th>2</th>\n",
       "      <td>{'id': 901579698223931392, 'id_str': '90157969...</td>\n",
       "    </tr>\n",
       "    <tr>\n",
       "      <th>3</th>\n",
       "      <td>{'id': 23438548, 'id_str': '23438548', 'name':...</td>\n",
       "    </tr>\n",
       "    <tr>\n",
       "      <th>4</th>\n",
       "      <td>{'id': 942424782, 'id_str': '942424782', 'name...</td>\n",
       "    </tr>\n",
       "  </tbody>\n",
       "</table>\n",
       "</div>"
      ],
      "text/plain": [
       "                                                user\n",
       "0  {'id': 145388018, 'id_str': '145388018', 'name...\n",
       "1  {'id': 2407992339, 'id_str': '2407992339', 'na...\n",
       "2  {'id': 901579698223931392, 'id_str': '90157969...\n",
       "3  {'id': 23438548, 'id_str': '23438548', 'name':...\n",
       "4  {'id': 942424782, 'id_str': '942424782', 'name..."
      ]
     },
     "execution_count": 2,
     "metadata": {},
     "output_type": "execute_result"
    }
   ],
   "source": [
    "user = pd.DataFrame.from_dict(all_tweets['user'])\n",
    "user.head()"
   ]
  },
  {
   "cell_type": "markdown",
   "id": "e6994b68",
   "metadata": {
    "papermill": {
     "duration": 0.010193,
     "end_time": "2022-01-11T06:38:23.482388",
     "exception": false,
     "start_time": "2022-01-11T06:38:23.472195",
     "status": "completed"
    },
    "tags": []
   },
   "source": [
    "# Defining Viral Tweets\n",
    "\n",
    "A K-Nearest Neighbor classifier is a supervised machine learning algorithm, and as a result, we need to have a dataset with tagged labels. For this specific example, we need a dataset where every tweet is marked as viral or not viral. Unfortunately, this isn't a feature of our dataset &mdash; we'll need to make it ourselves.\n",
    "\n",
    "So how do we define a viral tweet? A good place to start is to look at the number of retweets the tweet has. This can be found using the feature `\"retweet_count\"`. Let's say we wanted to create a column called `is_viral` that is a `1` if the tweet had more than `5` retweets and `0` otherwise. We could do that like this:\n",
    "\n",
    "```py\n",
    "all_tweets['is_viral'] = np.where(all_tweets['retweet_count'] > 5, 1, 0)\n",
    "```\n",
    "\n",
    "Instead of using `5` as the benchmark for a viral tweet, let's use the median number of retweets. You can find that by calling the `median()` function on `all_tweets[\"retweet_count\"]`. Print the median number of retweets to understand what this threshold is.\n",
    "\n",
    "Print the number of viral tweets and non-viral tweets. You can do this using `all_tweets['is_viral'].value_counts()`.\n",
    "\n",
    "After finishing this project, consider coming back and playing with this threshold number. How do you think your model would work if it was trying to find incredibly viral tweets? For example, how would it work if it were looking for tweets with 1000 or more retweets?"
   ]
  },
  {
   "cell_type": "code",
   "execution_count": 3,
   "id": "fc196c5e",
   "metadata": {
    "execution": {
     "iopub.execute_input": "2022-01-11T06:38:23.507123Z",
     "iopub.status.busy": "2022-01-11T06:38:23.506136Z",
     "iopub.status.idle": "2022-01-11T06:38:23.514002Z",
     "shell.execute_reply": "2022-01-11T06:38:23.514544Z",
     "shell.execute_reply.started": "2022-01-11T06:28:15.259666Z"
    },
    "papermill": {
     "duration": 0.02154,
     "end_time": "2022-01-11T06:38:23.514712",
     "exception": false,
     "start_time": "2022-01-11T06:38:23.493172",
     "status": "completed"
    },
    "tags": []
   },
   "outputs": [],
   "source": [
    "import numpy as np\n",
    "all_tweets['is_viral'] = np.where(all_tweets['retweet_count'] > np.median(all_tweets['retweet_count']), 1, 0)"
   ]
  },
  {
   "cell_type": "markdown",
   "id": "c6f006fa",
   "metadata": {
    "papermill": {
     "duration": 0.009947,
     "end_time": "2022-01-11T06:38:23.535050",
     "exception": false,
     "start_time": "2022-01-11T06:38:23.525103",
     "status": "completed"
    },
    "tags": []
   },
   "source": [
    "# Making Features\n",
    "\n",
    "Now that we've created a label for every tweet in our dataset, we can begin thinking about which features might determine whether a tweet is viral. We can create new columns in our dataset to represent these features. For example, let's say we think the length of a tweet might be a valuable feature. The following line creates a new column containing the length of the tweet.\n",
    "\n",
    "```py\n",
    "all_tweets['tweet_length'] = all_tweets.apply(lambda tweet: len(tweet['text']), axis=1)\n",
    "```\n",
    "\n",
    "Setting `axis = 1` creates a new column rather than a new row.\n",
    "\n",
    "Create a new column called `followers_count` that contains the number of followers of each user. You can find this information in `tweet['user']['followers_count']`. Do the same for `friends_count`.\n",
    "\n",
    "For the rest of this project, we will be using these three features, but we encourage you to create your own. Here are some potential ideas for more features.\n",
    "\n",
    "* The number of hashtags in the tweet. You can find this by looking at the `text` of the tweet and using the `.count()` function with `#` as a parameter.\n",
    "* The number of links in the tweet. Using a similar strategy to the one above, use `.count()` to count the number of times `http` appears in the tweet.\n",
    "* The number of words in the tweet. Call `.split()` on the `text` of a tweet. This will give you a list of the words in the tweet. Find the length of that list.\n",
    "* The average length of the words in the tweet."
   ]
  },
  {
   "cell_type": "code",
   "execution_count": 4,
   "id": "9c3b6b05",
   "metadata": {
    "execution": {
     "iopub.execute_input": "2022-01-11T06:38:23.559155Z",
     "iopub.status.busy": "2022-01-11T06:38:23.558174Z",
     "iopub.status.idle": "2022-01-11T06:38:24.219574Z",
     "shell.execute_reply": "2022-01-11T06:38:24.220439Z",
     "shell.execute_reply.started": "2022-01-11T06:28:24.116608Z"
    },
    "papermill": {
     "duration": 0.675326,
     "end_time": "2022-01-11T06:38:24.220661",
     "exception": false,
     "start_time": "2022-01-11T06:38:23.545335",
     "status": "completed"
    },
    "tags": []
   },
   "outputs": [],
   "source": [
    "all_tweets['tweet_length'] = all_tweets.apply(lambda tweet: len(tweet['text']), axis=1)\n",
    "all_tweets['followers_count'] = all_tweets.apply(lambda x: x['user']['followers_count'], axis=1)\n",
    "all_tweets['friends_count'] = all_tweets.apply(lambda x: x['user']['friends_count'], axis = 1)\n",
    "all_tweets['hashtag_count'] = all_tweets.text.str.count('#')\n",
    "all_tweets['link_count'] = all_tweets.text.str.count('#')\n",
    "all_tweets['number_of_words'] = all_tweets.text.str.split().apply(len)\n",
    "all_tweets['verified'] = all_tweets.apply(lambda x: 1 if x['user']['verified'] == True else 0, axis = 1)"
   ]
  },
  {
   "cell_type": "code",
   "execution_count": 5,
   "id": "45e22211",
   "metadata": {
    "execution": {
     "iopub.execute_input": "2022-01-11T06:38:24.247868Z",
     "iopub.status.busy": "2022-01-11T06:38:24.246965Z",
     "iopub.status.idle": "2022-01-11T06:38:24.280526Z",
     "shell.execute_reply": "2022-01-11T06:38:24.281263Z",
     "shell.execute_reply.started": "2022-01-11T06:30:29.327290Z"
    },
    "papermill": {
     "duration": 0.049889,
     "end_time": "2022-01-11T06:38:24.281508",
     "exception": false,
     "start_time": "2022-01-11T06:38:24.231619",
     "status": "completed"
    },
    "tags": []
   },
   "outputs": [
    {
     "name": "stdout",
     "output_type": "stream",
     "text": [
      "<class 'pandas.core.frame.DataFrame'>\n",
      "RangeIndex: 11099 entries, 0 to 11098\n",
      "Data columns (total 39 columns):\n",
      " #   Column                     Non-Null Count  Dtype              \n",
      "---  ------                     --------------  -----              \n",
      " 0   created_at                 11099 non-null  datetime64[ns, UTC]\n",
      " 1   id                         11099 non-null  int64              \n",
      " 2   id_str                     11099 non-null  int64              \n",
      " 3   text                       11099 non-null  object             \n",
      " 4   truncated                  11099 non-null  bool               \n",
      " 5   entities                   11099 non-null  object             \n",
      " 6   metadata                   11099 non-null  object             \n",
      " 7   source                     11099 non-null  object             \n",
      " 8   in_reply_to_status_id      1402 non-null   float64            \n",
      " 9   in_reply_to_status_id_str  1402 non-null   float64            \n",
      " 10  in_reply_to_user_id        1503 non-null   float64            \n",
      " 11  in_reply_to_user_id_str    1503 non-null   float64            \n",
      " 12  in_reply_to_screen_name    1503 non-null   object             \n",
      " 13  user                       11099 non-null  object             \n",
      " 14  geo                        17 non-null     object             \n",
      " 15  coordinates                17 non-null     object             \n",
      " 16  place                      156 non-null    object             \n",
      " 17  contributors               0 non-null      float64            \n",
      " 18  retweeted_status           7372 non-null   object             \n",
      " 19  is_quote_status            11099 non-null  bool               \n",
      " 20  retweet_count              11099 non-null  int64              \n",
      " 21  favorite_count             11099 non-null  int64              \n",
      " 22  favorited                  11099 non-null  bool               \n",
      " 23  retweeted                  11099 non-null  bool               \n",
      " 24  lang                       11099 non-null  object             \n",
      " 25  possibly_sensitive         3192 non-null   float64            \n",
      " 26  quoted_status_id           1154 non-null   float64            \n",
      " 27  quoted_status_id_str       1154 non-null   float64            \n",
      " 28  extended_entities          1199 non-null   object             \n",
      " 29  quoted_status              327 non-null    object             \n",
      " 30  withheld_in_countries      2 non-null      object             \n",
      " 31  is_viral                   11099 non-null  int64              \n",
      " 32  tweet_length               11099 non-null  int64              \n",
      " 33  followers_count            11099 non-null  int64              \n",
      " 34  friends_count              11099 non-null  int64              \n",
      " 35  hashtag_count              11099 non-null  int64              \n",
      " 36  link_count                 11099 non-null  int64              \n",
      " 37  number_of_words            11099 non-null  int64              \n",
      " 38  verified                   11099 non-null  int64              \n",
      "dtypes: bool(4), datetime64[ns, UTC](1), float64(8), int64(12), object(14)\n",
      "memory usage: 3.0+ MB\n",
      "None\n"
     ]
    }
   ],
   "source": [
    "print(all_tweets.info())"
   ]
  },
  {
   "cell_type": "markdown",
   "id": "1715ccdf",
   "metadata": {
    "papermill": {
     "duration": 0.010414,
     "end_time": "2022-01-11T06:38:24.304804",
     "exception": false,
     "start_time": "2022-01-11T06:38:24.294390",
     "status": "completed"
    },
    "tags": []
   },
   "source": [
    "# Normalizing The Data\n",
    "\n",
    "We've now made the columns that we want to feed into our classifier. Let's get rid of all the data that is no longer relevant. Create a variable named `labels` and set it equal to the `'is_viral'` column of all_tweets.\n",
    "\n",
    "If we had a dataframe named `df` we could get a single column named `A` like this:\n",
    "\n",
    "```py\n",
    "one_column = df['A']\n",
    "```\n",
    "\n",
    "Create a variable named `data` and set it equal to all of the columns that you created in the last step. Those columns are `tweet_length`, `followers_count`, and `friends_count`.\n",
    "\n",
    "When selecting multiple columns, the names of the columns should be in a list. Check out the example below to see how to select column `A` *and* `B`:\n",
    "\n",
    "```py\n",
    "features = df[['A', 'B']]\n",
    "```\n",
    "\n",
    "Now create a new variable named `scaled_data`. `scaled_data` should be the result of the `scale` function with `data` as a parameter. Also include the parameter `axis = 0`. This scales the *columns* as opposed to the rows.\n",
    "\n",
    "The scale function will normalize the data so all of the features will vary within the same range.\n",
    "\n",
    "Print `scaled_data[0]` to get a sense of what our data looks like."
   ]
  },
  {
   "cell_type": "code",
   "execution_count": 6,
   "id": "4e06cd72",
   "metadata": {
    "execution": {
     "iopub.execute_input": "2022-01-11T06:38:24.331163Z",
     "iopub.status.busy": "2022-01-11T06:38:24.330546Z",
     "iopub.status.idle": "2022-01-11T06:38:25.200362Z",
     "shell.execute_reply": "2022-01-11T06:38:25.199780Z",
     "shell.execute_reply.started": "2022-01-11T06:32:18.288856Z"
    },
    "papermill": {
     "duration": 0.885046,
     "end_time": "2022-01-11T06:38:25.200500",
     "exception": false,
     "start_time": "2022-01-11T06:38:24.315454",
     "status": "completed"
    },
    "tags": []
   },
   "outputs": [],
   "source": [
    "from sklearn.preprocessing import scale\n",
    "label = all_tweets['is_viral']\n",
    "features = all_tweets[['tweet_length', 'followers_count', 'friends_count', 'hashtag_count', 'link_count', 'verified']]\n",
    "scaled_features = scale(features, axis = 0)"
   ]
  },
  {
   "cell_type": "markdown",
   "id": "b65819be",
   "metadata": {
    "papermill": {
     "duration": 0.010933,
     "end_time": "2022-01-11T06:38:25.222198",
     "exception": false,
     "start_time": "2022-01-11T06:38:25.211265",
     "status": "completed"
    },
    "tags": []
   },
   "source": [
    "# Creating the Training Set and Test Set\n",
    "\n",
    "To evaluate the effectiveness of our classifier, we now split `scaled_data` and `labels` into a training set and test set using scikit-learn's `train_test_split` function. This function takes two required parameters: It takes the data, followed by the labels. Set the optional parameter `test_size` to be `0.2`. You can also set the `random_state` parameter so your code will randomly split the data in the same way as our solution code splits the data. We used `random_state = 1`. Remember, this function returns 4 items in this order:\n",
    "\n",
    "1. The training data\n",
    "2. The testing data\n",
    "3. The training labels\n",
    "4. The testing labels\n",
    "\n",
    "Store the results in variables named `train_data`, `test_data`, `train_labels`, and `test_labels`."
   ]
  },
  {
   "cell_type": "code",
   "execution_count": 7,
   "id": "89d3750a",
   "metadata": {
    "execution": {
     "iopub.execute_input": "2022-01-11T06:38:25.248869Z",
     "iopub.status.busy": "2022-01-11T06:38:25.248192Z",
     "iopub.status.idle": "2022-01-11T06:38:25.305229Z",
     "shell.execute_reply": "2022-01-11T06:38:25.304657Z",
     "shell.execute_reply.started": "2022-01-11T06:32:25.779536Z"
    },
    "papermill": {
     "duration": 0.07232,
     "end_time": "2022-01-11T06:38:25.305372",
     "exception": false,
     "start_time": "2022-01-11T06:38:25.233052",
     "status": "completed"
    },
    "tags": []
   },
   "outputs": [],
   "source": [
    "from sklearn.model_selection import train_test_split\n",
    "\n",
    "train_data, test_data, train_labels, test_labels = train_test_split(scaled_features, label, test_size = 0.2, random_state = 1)"
   ]
  },
  {
   "cell_type": "markdown",
   "id": "e87bef37",
   "metadata": {
    "papermill": {
     "duration": 0.010598,
     "end_time": "2022-01-11T06:38:25.326830",
     "exception": false,
     "start_time": "2022-01-11T06:38:25.316232",
     "status": "completed"
    },
    "tags": []
   },
   "source": [
    "# Using the Classifier\n",
    "\n",
    "We can finally use the K-Nearest Neighbor classifier. Let's test it using `k = 5`. Begin by creating a `KNeighborsClassifier` object named `classifier` with the parameter `n_neighbors` equal to `5`.\n",
    "\n",
    "Next, train `classifier` by calling the `.fit()` method with `train_data` and `train_labels` as parameters.\n",
    "\n",
    "Finally, let's test the model! Call `classifier`'s `.score()` method using `test_data` and `test_labels` as parameters. Print the results.\n"
   ]
  },
  {
   "cell_type": "code",
   "execution_count": 8,
   "id": "b911915a",
   "metadata": {
    "execution": {
     "iopub.execute_input": "2022-01-11T06:38:25.353710Z",
     "iopub.status.busy": "2022-01-11T06:38:25.353080Z",
     "iopub.status.idle": "2022-01-11T06:38:25.707664Z",
     "shell.execute_reply": "2022-01-11T06:38:25.707097Z",
     "shell.execute_reply.started": "2022-01-11T06:36:04.558371Z"
    },
    "papermill": {
     "duration": 0.370043,
     "end_time": "2022-01-11T06:38:25.707815",
     "exception": false,
     "start_time": "2022-01-11T06:38:25.337772",
     "status": "completed"
    },
    "tags": []
   },
   "outputs": [
    {
     "name": "stdout",
     "output_type": "stream",
     "text": [
      "0.6157657657657658\n"
     ]
    }
   ],
   "source": [
    "from sklearn.neighbors import KNeighborsClassifier\n",
    "classifier = KNeighborsClassifier(n_neighbors = 48)\n",
    "classifier.fit(train_data, train_labels)\n",
    "print(classifier.score(test_data, test_labels))"
   ]
  },
  {
   "cell_type": "markdown",
   "id": "3d355c22",
   "metadata": {
    "papermill": {
     "duration": 0.010703,
     "end_time": "2022-01-11T06:38:25.730120",
     "exception": false,
     "start_time": "2022-01-11T06:38:25.719417",
     "status": "completed"
    },
    "tags": []
   },
   "source": [
    "# Choosing K\n",
    "\n",
    "We've tested our classifier with `k = 5`, but maybe there's a `k` that will work better. Let's test many different values for `k` and graph the results. \n",
    "\n",
    "First, create an empty list called `scores`. Next, create a for loop that has a variable `k` that begins at `1` and ends at `200`.\n",
    "\n",
    "Inside the for loop, create a `KNeighobrsClassifier` object named `classifier` with the parameter `n_neighbors` equal to `k`.\n",
    "\n",
    "Train `classifier` by calling the `.fit()` method with `train_data` and `train_labels` as parameters.\n",
    "\n",
    "Next, let's test the model! Call `classifier`'s `.score()` method using `test_data` and `test_labels` as parameters. `append` the result to `scores`.\n",
    "\n",
    "Finally, let's plot the results. Outside of the loop, use Matplotlib's `plot()` function. `plot()` takes two parameters &mdash; the data on the x-axis and the data on the y-axis. Data on the x-axis should be the values we used for `k`. In this case, `range(1,200)`.  Data on the y-axis should be `scores`. Make sure to call the `plt.show()` function after calling `plt.plot()`. This should take a couple of seconds to run!"
   ]
  },
  {
   "cell_type": "code",
   "execution_count": 9,
   "id": "98c766c3",
   "metadata": {
    "execution": {
     "iopub.execute_input": "2022-01-11T06:38:25.759068Z",
     "iopub.status.busy": "2022-01-11T06:38:25.758072Z",
     "iopub.status.idle": "2022-01-11T06:39:18.698907Z",
     "shell.execute_reply": "2022-01-11T06:39:18.699374Z",
     "shell.execute_reply.started": "2022-01-11T06:32:40.727189Z"
    },
    "papermill": {
     "duration": 52.958472,
     "end_time": "2022-01-11T06:39:18.699574",
     "exception": false,
     "start_time": "2022-01-11T06:38:25.741102",
     "status": "completed"
    },
    "tags": []
   },
   "outputs": [
    {
     "data": {
      "text/plain": [
       "[<matplotlib.lines.Line2D at 0x7f3857f5f590>]"
      ]
     },
     "execution_count": 9,
     "metadata": {},
     "output_type": "execute_result"
    },
    {
     "data": {
      "image/png": "[encoded data removed]",
      "text/plain": [
       "<Figure size 432x288 with 1 Axes>"
      ]
     },
     "metadata": {
      "needs_background": "light"
     },
     "output_type": "display_data"
    }
   ],
   "source": [
    "import matplotlib.pyplot as plt\n",
    "scores = []\n",
    "for i in range(1, 201):\n",
    "    classifier = KNeighborsClassifier(n_neighbors = i)\n",
    "    classifier.fit(train_data, train_labels)\n",
    "    scores.append(classifier.score(test_data, test_labels))\n",
    "\n",
    "plt.plot(range(1,201), scores)"
   ]
  },
  {
   "cell_type": "markdown",
   "id": "4cc5047c",
   "metadata": {
    "papermill": {
     "duration": 0.011953,
     "end_time": "2022-01-11T06:39:18.723818",
     "exception": false,
     "start_time": "2022-01-11T06:39:18.711865",
     "status": "completed"
    },
    "tags": []
   },
   "source": [
    "You can see the classifier gets better as `k` increases, but as `k` gets too high, underfitting starts to happen.\n",
    "\n",
    "By using the features `tweet_length`, `followers_count`, and `friends_count`, we were able to get up to around 63% accuracy. That is better than random, but still not exceptional"
   ]
  }
 ],
 "metadata": {
  "kernelspec": {
   "display_name": "Python 3",
   "language": "python",
   "name": "python3"
  },
  "language_info": {
   "codemirror_mode": {
    "name": "ipython",
    "version": 3
   },
   "file_extension": ".py",
   "mimetype": "text/x-python",
   "name": "python",
   "nbconvert_exporter": "python",
   "pygments_lexer": "ipython3",
   "version": "3.7.12"
  },
  "papermill": {
   "default_parameters": {},
   "duration": 69.358974,
   "end_time": "2022-01-11T06:39:19.747372",
   "environment_variables": {},
   "exception": null,
   "input_path": "__notebook__.ipynb",
   "output_path": "__notebook__.ipynb",
   "parameters": {},
   "start_time": "2022-01-11T06:38:10.388398",
   "version": "2.3.3"
  }
 },
 "nbformat": 4,
 "nbformat_minor": 5
}
