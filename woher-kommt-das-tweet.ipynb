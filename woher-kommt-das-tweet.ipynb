{
 "cells": [
  {
   "cell_type": "markdown",
   "id": "5cbec7ad",
   "metadata": {
    "papermill": {
     "duration": 0.01777,
     "end_time": "2022-01-11T07:13:13.441158",
     "exception": false,
     "start_time": "2022-01-11T07:13:13.423388",
     "status": "completed"
    },
    "tags": []
   },
   "source": [
    "# Off-Platform Project: Classifying Tweets\n",
    "\n",
    "In this off-platform project, you will use a Naive Bayes Classifier to find patterns in real tweets. We've given you three files: `new_york.json`, `london.json`, and `paris.json`. These three files contain tweets that we gathered from those locations.\n",
    "\n",
    "The goal is to create a classification algorithm that can classify any tweet (or sentence) and predict whether that sentence came from New York, London, or Paris."
   ]
  },
  {
   "cell_type": "markdown",
   "id": "91b23254",
   "metadata": {
    "papermill": {
     "duration": 0.014233,
     "end_time": "2022-01-11T07:13:13.471598",
     "exception": false,
     "start_time": "2022-01-11T07:13:13.457365",
     "status": "completed"
    },
    "tags": []
   },
   "source": [
    "# Investigate the Data\n",
    "\n",
    "To begin, let's take a look at the data. We've imported `new_york.json` and printed the following information:\n",
    "* The number of tweets.\n",
    "* The columns, or features, of a tweet.\n",
    "* The text of the 12th tweet in the New York dataset.\n",
    "\n",
    "Run the cell below to see the results."
   ]
  },
  {
   "cell_type": "code",
   "execution_count": 1,
   "id": "83d3c6b1",
   "metadata": {
    "execution": {
     "iopub.execute_input": "2022-01-11T07:13:13.510568Z",
     "iopub.status.busy": "2022-01-11T07:13:13.509581Z",
     "iopub.status.idle": "2022-01-11T07:13:15.573217Z",
     "shell.execute_reply": "2022-01-11T07:13:15.573747Z",
     "shell.execute_reply.started": "2022-01-11T06:52:16.770432Z"
    },
    "papermill": {
     "duration": 2.087897,
     "end_time": "2022-01-11T07:13:15.574115",
     "exception": false,
     "start_time": "2022-01-11T07:13:13.486218",
     "status": "completed"
    },
    "tags": []
   },
   "outputs": [
    {
     "name": "stdout",
     "output_type": "stream",
     "text": [
      "4723\n",
      "Index(['created_at', 'id', 'id_str', 'text', 'display_text_range', 'source',\n",
      "       'truncated', 'in_reply_to_status_id', 'in_reply_to_status_id_str',\n",
      "       'in_reply_to_user_id', 'in_reply_to_user_id_str',\n",
      "       'in_reply_to_screen_name', 'user', 'geo', 'coordinates', 'place',\n",
      "       'contributors', 'is_quote_status', 'quote_count', 'reply_count',\n",
      "       'retweet_count', 'favorite_count', 'entities', 'favorited', 'retweeted',\n",
      "       'filter_level', 'lang', 'timestamp_ms', 'extended_tweet',\n",
      "       'possibly_sensitive', 'quoted_status_id', 'quoted_status_id_str',\n",
      "       'quoted_status', 'quoted_status_permalink', 'extended_entities',\n",
      "       'withheld_in_countries'],\n",
      "      dtype='object')\n",
      "Be best #ThursdayThoughts\n"
     ]
    }
   ],
   "source": [
    "import pandas as pd\n",
    "\n",
    "new_york_tweets = pd.read_json(\"/kaggle/input/twitter-classification/new_york.json\", lines=True)\n",
    "print(len(new_york_tweets))\n",
    "print(new_york_tweets.columns)\n",
    "print(new_york_tweets.loc[12][\"text\"])"
   ]
  },
  {
   "cell_type": "markdown",
   "id": "f16f4cd7",
   "metadata": {
    "papermill": {
     "duration": 0.014289,
     "end_time": "2022-01-11T07:13:15.603558",
     "exception": false,
     "start_time": "2022-01-11T07:13:15.589269",
     "status": "completed"
    },
    "tags": []
   },
   "source": [
    "In the code block below, load the London and Paris tweets into DataFrames named `london_tweets` and `paris_tweets`.\n",
    "\n",
    "How many London tweets are there? How many Paris ones are there?"
   ]
  },
  {
   "cell_type": "code",
   "execution_count": 2,
   "id": "257106e2",
   "metadata": {
    "execution": {
     "iopub.execute_input": "2022-01-11T07:13:15.639453Z",
     "iopub.status.busy": "2022-01-11T07:13:15.638730Z",
     "iopub.status.idle": "2022-01-11T07:13:19.520429Z",
     "shell.execute_reply": "2022-01-11T07:13:19.519765Z",
     "shell.execute_reply.started": "2022-01-11T06:55:37.053599Z"
    },
    "papermill": {
     "duration": 3.902568,
     "end_time": "2022-01-11T07:13:19.520610",
     "exception": false,
     "start_time": "2022-01-11T07:13:15.618042",
     "status": "completed"
    },
    "tags": []
   },
   "outputs": [
    {
     "name": "stdout",
     "output_type": "stream",
     "text": [
      "5341\n",
      "Index(['created_at', 'id', 'id_str', 'text', 'display_text_range', 'source',\n",
      "       'truncated', 'in_reply_to_status_id', 'in_reply_to_status_id_str',\n",
      "       'in_reply_to_user_id', 'in_reply_to_user_id_str',\n",
      "       'in_reply_to_screen_name', 'user', 'geo', 'coordinates', 'place',\n",
      "       'contributors', 'is_quote_status', 'extended_tweet', 'quote_count',\n",
      "       'reply_count', 'retweet_count', 'favorite_count', 'entities',\n",
      "       'favorited', 'retweeted', 'filter_level', 'lang', 'timestamp_ms',\n",
      "       'possibly_sensitive', 'quoted_status_id', 'quoted_status_id_str',\n",
      "       'quoted_status', 'quoted_status_permalink', 'extended_entities'],\n",
      "      dtype='object')\n",
      "I saw this on the BBC and thought you should see it:\n",
      "\n",
      "The precious metal sparking a new gold rush - https://t.co/ScW4MOSobZ\n",
      "2510\n",
      "Index(['created_at', 'id', 'id_str', 'text', 'source', 'truncated',\n",
      "       'in_reply_to_status_id', 'in_reply_to_status_id_str',\n",
      "       'in_reply_to_user_id', 'in_reply_to_user_id_str',\n",
      "       'in_reply_to_screen_name', 'user', 'geo', 'coordinates', 'place',\n",
      "       'contributors', 'is_quote_status', 'quote_count', 'reply_count',\n",
      "       'retweet_count', 'favorite_count', 'entities', 'favorited', 'retweeted',\n",
      "       'filter_level', 'lang', 'timestamp_ms', 'display_text_range',\n",
      "       'extended_entities', 'possibly_sensitive', 'quoted_status_id',\n",
      "       'quoted_status_id_str', 'quoted_status', 'quoted_status_permalink',\n",
      "       'extended_tweet'],\n",
      "      dtype='object')\n",
      "Hauts-de-Seine : l’incendie d’Issy-les-Moulineaux prive aussi 16 000 foyers de courant https://t.co/Hlb02Fpliy\n"
     ]
    }
   ],
   "source": [
    "london_tweets = pd.read_json('/kaggle/input/twitter-classification/london.json', lines = True)\n",
    "paris_tweets = pd.read_json('/kaggle/input/twitter-classification/paris.json', lines = True)\n",
    "print(len(london_tweets))\n",
    "print(london_tweets.columns)\n",
    "print(london_tweets.loc[12][\"text\"])\n",
    "print(len(paris_tweets))\n",
    "print(paris_tweets.columns)\n",
    "print(paris_tweets.loc[12][\"text\"])"
   ]
  },
  {
   "cell_type": "markdown",
   "id": "6fd3aa23",
   "metadata": {
    "papermill": {
     "duration": 0.015906,
     "end_time": "2022-01-11T07:13:19.552212",
     "exception": false,
     "start_time": "2022-01-11T07:13:19.536306",
     "status": "completed"
    },
    "tags": []
   },
   "source": [
    "# Classifying using language: Naive Bayes Classifier\n",
    "\n",
    "We're going to create a Naive Bayes Classifier! Let's begin by looking at the way language is used differently in these three locations. Let's grab the text of all of the tweets and make it one big list. In the code block below, we've created a list of all the New York tweets. Do the same for `london_tweets` and `paris_tweets`.\n",
    "\n",
    "Then combine all three into a variable named `all_tweets` by using the `+` operator. For example, `all_tweets = new_york_text + london_text + ...`\n",
    "\n",
    "Let's also make the labels associated with those tweets. `0` represents a New York tweet, `1`  represents a London tweet, and `2` represents a Paris tweet. Finish the definition of `labels`."
   ]
  },
  {
   "cell_type": "code",
   "execution_count": 3,
   "id": "968eab8e",
   "metadata": {
    "execution": {
     "iopub.execute_input": "2022-01-11T07:13:19.591473Z",
     "iopub.status.busy": "2022-01-11T07:13:19.586220Z",
     "iopub.status.idle": "2022-01-11T07:13:19.594940Z",
     "shell.execute_reply": "2022-01-11T07:13:19.594365Z",
     "shell.execute_reply.started": "2022-01-11T07:00:42.496030Z"
    },
    "papermill": {
     "duration": 0.027673,
     "end_time": "2022-01-11T07:13:19.595109",
     "exception": false,
     "start_time": "2022-01-11T07:13:19.567436",
     "status": "completed"
    },
    "tags": []
   },
   "outputs": [],
   "source": [
    "new_york_text = new_york_tweets[\"text\"].tolist()\n",
    "london_text = london_tweets['text'].tolist()\n",
    "paris_text = paris_tweets['text'].tolist()\n",
    "\n",
    "all_tweets = new_york_text + london_text + paris_text\n",
    "labels = [0] * len(new_york_text) + [1] * len(london_text) + [2] * len(paris_text)"
   ]
  },
  {
   "cell_type": "markdown",
   "id": "12e03e9b",
   "metadata": {
    "papermill": {
     "duration": 0.014904,
     "end_time": "2022-01-11T07:13:19.625289",
     "exception": false,
     "start_time": "2022-01-11T07:13:19.610385",
     "status": "completed"
    },
    "tags": []
   },
   "source": [
    "# Making a Training and Test Set\n",
    "\n",
    "We can now break our data into a training set and a test set. We'll use scikit-learn's `train_test_split` function to do this split. This function takes two required parameters: It takes the data, followed by the labels. Set the optional parameter `test_size` to be `0.2`. Finally, set the optional parameter `random_state` to `1`. This will make it so your data is split in the same way as the data in our solution code. \n",
    "\n",
    "Remember, this function returns 4 items in this order:\n",
    "1. The training data\n",
    "2. The testing data\n",
    "3. The training labels\n",
    "4. The testing labels\n",
    "\n",
    "Store the results in variables named `train_data`, `test_data`, `train_labels`, and `test_labels`.\n",
    "\n",
    "Print the length of `train_data` and the length of `test_data`."
   ]
  },
  {
   "cell_type": "code",
   "execution_count": 4,
   "id": "2047a6d3",
   "metadata": {
    "execution": {
     "iopub.execute_input": "2022-01-11T07:13:19.661590Z",
     "iopub.status.busy": "2022-01-11T07:13:19.660878Z",
     "iopub.status.idle": "2022-01-11T07:13:20.742851Z",
     "shell.execute_reply": "2022-01-11T07:13:20.743386Z",
     "shell.execute_reply.started": "2022-01-11T07:02:04.936235Z"
    },
    "papermill": {
     "duration": 1.103163,
     "end_time": "2022-01-11T07:13:20.743591",
     "exception": false,
     "start_time": "2022-01-11T07:13:19.640428",
     "status": "completed"
    },
    "tags": []
   },
   "outputs": [],
   "source": [
    "from sklearn.model_selection import train_test_split\n",
    "train_data, test_data, train_labels, test_labels = train_test_split(all_tweets, labels, test_size=0.2, random_state = 1)"
   ]
  },
  {
   "cell_type": "markdown",
   "id": "2bd27f6d",
   "metadata": {
    "papermill": {
     "duration": 0.014936,
     "end_time": "2022-01-11T07:13:20.774360",
     "exception": false,
     "start_time": "2022-01-11T07:13:20.759424",
     "status": "completed"
    },
    "tags": []
   },
   "source": [
    "# Making the Count Vectors\n",
    "\n",
    "To use a Naive Bayes Classifier, we need to transform our lists of words into count vectors. Recall that this changes the sentence `\"I love New York, New York\"` into a list that contains:\n",
    "\n",
    "* Two `1`s because the words `\"I\"` and `\"love\"` each appear once.\n",
    "* Two `2`s because the words `\"New\"` and `\"York\"` each appear twice.\n",
    "* Many `0`s because every other word in the training set didn't appear at all.\n",
    "\n",
    "To start, create a `CountVectorizer` named `counter`.\n",
    "\n",
    "Next, call the `.fit()` method using `train_data` as a parameter. This teaches the counter our vocabulary.\n",
    "\n",
    "Finally, let's transform `train_data` and `test_data` into Count Vectors. Call `counter`'s `.transform()` method using `train_data` as a parameter and store the result in `train_counts`. Do the same for `test_data` and store the result in `test_counts`.\n",
    "\n",
    "Print `train_data[3]` and `train_counts[3]` to see what a tweet looks like as a Count Vector."
   ]
  },
  {
   "cell_type": "code",
   "execution_count": 5,
   "id": "45f55683",
   "metadata": {
    "execution": {
     "iopub.execute_input": "2022-01-11T07:13:20.812868Z",
     "iopub.status.busy": "2022-01-11T07:13:20.812094Z",
     "iopub.status.idle": "2022-01-11T07:13:21.443571Z",
     "shell.execute_reply": "2022-01-11T07:13:21.442828Z",
     "shell.execute_reply.started": "2022-01-11T07:04:42.078391Z"
    },
    "papermill": {
     "duration": 0.653305,
     "end_time": "2022-01-11T07:13:21.443727",
     "exception": false,
     "start_time": "2022-01-11T07:13:20.790422",
     "status": "completed"
    },
    "tags": []
   },
   "outputs": [],
   "source": [
    "from sklearn.feature_extraction.text import CountVectorizer\n",
    "counter = CountVectorizer()\n",
    "counter.fit(train_data)\n",
    "train_counts = counter.transform(train_data)\n",
    "test_counts = counter.transform(test_data)"
   ]
  },
  {
   "cell_type": "code",
   "execution_count": 6,
   "id": "b5ba5f0a",
   "metadata": {
    "execution": {
     "iopub.execute_input": "2022-01-11T07:13:21.482866Z",
     "iopub.status.busy": "2022-01-11T07:13:21.481943Z",
     "iopub.status.idle": "2022-01-11T07:13:21.485278Z",
     "shell.execute_reply": "2022-01-11T07:13:21.484655Z",
     "shell.execute_reply.started": "2022-01-11T07:05:23.517042Z"
    },
    "papermill": {
     "duration": 0.026261,
     "end_time": "2022-01-11T07:13:21.485421",
     "exception": false,
     "start_time": "2022-01-11T07:13:21.459160",
     "status": "completed"
    },
    "tags": []
   },
   "outputs": [
    {
     "name": "stdout",
     "output_type": "stream",
     "text": [
      "saying bye is hard. Especially when youre saying bye to comfort.\n",
      "  (0, 5022)\t2\n",
      "  (0, 6371)\t1\n",
      "  (0, 9552)\t1\n",
      "  (0, 12314)\t1\n",
      "  (0, 13903)\t1\n",
      "  (0, 23994)\t2\n",
      "  (0, 27146)\t1\n",
      "  (0, 29397)\t1\n",
      "  (0, 30274)\t1\n"
     ]
    }
   ],
   "source": [
    "print(train_data[3])\n",
    "print(train_counts[3])"
   ]
  },
  {
   "cell_type": "markdown",
   "id": "c9beec5f",
   "metadata": {
    "papermill": {
     "duration": 0.015279,
     "end_time": "2022-01-11T07:13:21.516044",
     "exception": false,
     "start_time": "2022-01-11T07:13:21.500765",
     "status": "completed"
    },
    "tags": []
   },
   "source": [
    "# Train and Test the Naive Bayes Classifier\n",
    "\n",
    "We now have the inputs to our classifier. Let's use the CountVectors to train and test the Naive Bayes Classifier!\n",
    "\n",
    "First, make a `MultinomialNB` named `classifier`.\n",
    "\n",
    "Next, call `classifier`'s `.fit()` method. This method takes two parameters &mdash; the training data and the training labels. `train_counts` contains the training data and `train_labels` containts the labels for that data.\n",
    "\n",
    "Calling `.fit()` calculates all of the probabilities used in Bayes Theorem. The model is now ready to quickly predict the location of a new tweet. \n",
    "\n",
    "Finally, let's test our model. `classifier`'s `.predict()` method using `test_counts` as a parameter. Store the results in a variable named `predictions`."
   ]
  },
  {
   "cell_type": "code",
   "execution_count": 7,
   "id": "d9576f6a",
   "metadata": {
    "execution": {
     "iopub.execute_input": "2022-01-11T07:13:21.552951Z",
     "iopub.status.busy": "2022-01-11T07:13:21.551872Z",
     "iopub.status.idle": "2022-01-11T07:13:21.567203Z",
     "shell.execute_reply": "2022-01-11T07:13:21.566511Z",
     "shell.execute_reply.started": "2022-01-11T07:07:39.820425Z"
    },
    "papermill": {
     "duration": 0.035896,
     "end_time": "2022-01-11T07:13:21.567349",
     "exception": false,
     "start_time": "2022-01-11T07:13:21.531453",
     "status": "completed"
    },
    "tags": []
   },
   "outputs": [],
   "source": [
    "from sklearn.naive_bayes import MultinomialNB\n",
    "classifier = MultinomialNB()\n",
    "classifier.fit(train_counts, train_labels)\n",
    "predictions = classifier.predict(test_counts)"
   ]
  },
  {
   "cell_type": "markdown",
   "id": "5603918a",
   "metadata": {
    "papermill": {
     "duration": 0.015504,
     "end_time": "2022-01-11T07:13:21.598495",
     "exception": false,
     "start_time": "2022-01-11T07:13:21.582991",
     "status": "completed"
    },
    "tags": []
   },
   "source": [
    "# Evaluating Your Model\n",
    "\n",
    "Now that the classifier has made its predictions, let's see how well it did. Let's look at two different ways to do this. First, call scikit-learn's `accuracy_score` function. This function should take two parameters &mdash;  the `test_labels` and your `predictions`. Print the results. This prints the percentage of tweets in the test set that the classifier correctly classified.\n",
    "\n"
   ]
  },
  {
   "cell_type": "code",
   "execution_count": 8,
   "id": "d83e04fb",
   "metadata": {
    "execution": {
     "iopub.execute_input": "2022-01-11T07:13:21.637812Z",
     "iopub.status.busy": "2022-01-11T07:13:21.637149Z",
     "iopub.status.idle": "2022-01-11T07:13:21.641209Z",
     "shell.execute_reply": "2022-01-11T07:13:21.640620Z",
     "shell.execute_reply.started": "2022-01-11T07:08:33.946743Z"
    },
    "papermill": {
     "duration": 0.027156,
     "end_time": "2022-01-11T07:13:21.641350",
     "exception": false,
     "start_time": "2022-01-11T07:13:21.614194",
     "status": "completed"
    },
    "tags": []
   },
   "outputs": [
    {
     "name": "stdout",
     "output_type": "stream",
     "text": [
      "0.6779324055666004\n"
     ]
    }
   ],
   "source": [
    "from sklearn.metrics import accuracy_score\n",
    "print(accuracy_score(test_labels, predictions))"
   ]
  },
  {
   "cell_type": "markdown",
   "id": "206a2a39",
   "metadata": {
    "papermill": {
     "duration": 0.015851,
     "end_time": "2022-01-11T07:13:21.673019",
     "exception": false,
     "start_time": "2022-01-11T07:13:21.657168",
     "status": "completed"
    },
    "tags": []
   },
   "source": [
    "The other way you can evaluate your model is by looking at the **confusion matrix**. A confusion matrix is a table that describes how your classifier made its predictions. For example, if there were two labels, A and B, a confusion matrix might look like this:\n",
    "\n",
    "```\n",
    "9 1\n",
    "3 5\n",
    "```\n",
    "\n",
    "In this example, the first row shows how the classifier classified the true A's. It guessed that 9 of them were A's and 1 of them was a B. The second row shows how the classifier did on the true B's. It guessed that 3 of them were A's and 5 of them were B's.\n",
    "\n",
    "For our project using tweets, there were three classes &mdash; `0` for New York, `1` for London, and `2` for Paris. You can see the confustion matrix by printing the result of the `confusion_matrix` function using `test_labels` and `predictions` as parameters."
   ]
  },
  {
   "cell_type": "code",
   "execution_count": 9,
   "id": "5166eca0",
   "metadata": {
    "execution": {
     "iopub.execute_input": "2022-01-11T07:13:21.712850Z",
     "iopub.status.busy": "2022-01-11T07:13:21.712193Z",
     "iopub.status.idle": "2022-01-11T07:13:21.721473Z",
     "shell.execute_reply": "2022-01-11T07:13:21.722023Z",
     "shell.execute_reply.started": "2022-01-11T07:09:44.106979Z"
    },
    "papermill": {
     "duration": 0.033031,
     "end_time": "2022-01-11T07:13:21.722206",
     "exception": false,
     "start_time": "2022-01-11T07:13:21.689175",
     "status": "completed"
    },
    "tags": []
   },
   "outputs": [
    {
     "name": "stdout",
     "output_type": "stream",
     "text": [
      "[[541 404  28]\n",
      " [203 824  34]\n",
      " [ 38 103 340]]\n"
     ]
    }
   ],
   "source": [
    "from sklearn.metrics import confusion_matrix\n",
    "print(confusion_matrix(test_labels, predictions))"
   ]
  },
  {
   "cell_type": "markdown",
   "id": "d892a5b3",
   "metadata": {
    "papermill": {
     "duration": 0.015684,
     "end_time": "2022-01-11T07:13:21.754122",
     "exception": false,
     "start_time": "2022-01-11T07:13:21.738438",
     "status": "completed"
    },
    "tags": []
   },
   "source": [
    "# Test Your Own Tweet\n",
    "\n",
    "Nice work! The confusion matrix should line up with your intuition. The classifier predicts tweets that were actually from New York as either New York tweets or London tweets, but almost never Paris tweets. Similarly, the classifier rarely misclassifies the tweets that were actually from Paris. Tweets coming from two English speaking countries are harder to distinguish than tweets in different languages.\n",
    "\n",
    "Now it's your chance to write a tweet and see how the classifier works! Create a string and store it in a variable named `tweet`. \n",
    "\n",
    "Call `counter`'s `.transform()` method using `[tweet]` as a parameter. Save the result as `tweet_counts`. Notice that your variable has to be in an array &mdash; `.transform()` can't take just a string, it must be a list. \n",
    "\n",
    "Finally, pass `tweet_counts` as parameter to `classifier`'s `.predict()` method. Print the result. This should give you the prediction for the tweet. Remember a `0` represents New York, a `1` represents London, and a `2` represents Paris. Can you write different tweets that the classifier predicts as being from New York, London, and Paris?"
   ]
  },
  {
   "cell_type": "code",
   "execution_count": 10,
   "id": "64a17d66",
   "metadata": {
    "execution": {
     "iopub.execute_input": "2022-01-11T07:13:21.791922Z",
     "iopub.status.busy": "2022-01-11T07:13:21.791163Z",
     "iopub.status.idle": "2022-01-11T07:13:21.793954Z",
     "shell.execute_reply": "2022-01-11T07:13:21.794579Z",
     "shell.execute_reply.started": "2022-01-11T07:11:43.484544Z"
    },
    "papermill": {
     "duration": 0.024625,
     "end_time": "2022-01-11T07:13:21.794760",
     "exception": false,
     "start_time": "2022-01-11T07:13:21.770135",
     "status": "completed"
    },
    "tags": []
   },
   "outputs": [
    {
     "name": "stdout",
     "output_type": "stream",
     "text": [
      "[1]\n"
     ]
    }
   ],
   "source": [
    "tweet = ['it\\'s a amazing day today']\n",
    "tweet_counts = counter.transform(tweet)\n",
    "print(classifier.predict(tweet_counts))"
   ]
  }
 ],
 "metadata": {
  "kernelspec": {
   "display_name": "Python 3",
   "language": "python",
   "name": "python3"
  },
  "language_info": {
   "codemirror_mode": {
    "name": "ipython",
    "version": 3
   },
   "file_extension": ".py",
   "mimetype": "text/x-python",
   "name": "python",
   "nbconvert_exporter": "python",
   "pygments_lexer": "ipython3",
   "version": "3.7.12"
  },
  "papermill": {
   "default_parameters": {},
   "duration": 19.824043,
   "end_time": "2022-01-11T07:13:22.823171",
   "environment_variables": {},
   "exception": null,
   "input_path": "__notebook__.ipynb",
   "output_path": "__notebook__.ipynb",
   "parameters": {},
   "start_time": "2022-01-11T07:13:02.999128",
   "version": "2.3.3"
  }
 },
 "nbformat": 4,
 "nbformat_minor": 5
}
